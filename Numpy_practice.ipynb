{
  "nbformat": 4,
  "nbformat_minor": 0,
  "metadata": {
    "colab": {
      "provenance": [],
      "authorship_tag": "ABX9TyO1csAOKnazSX26Gnm6XZB/",
      "include_colab_link": true
    },
    "kernelspec": {
      "name": "python3",
      "display_name": "Python 3"
    },
    "language_info": {
      "name": "python"
    }
  },
  "cells": [
    {
      "cell_type": "markdown",
      "metadata": {
        "id": "view-in-github",
        "colab_type": "text"
      },
      "source": [
        "<a href=\"https://colab.research.google.com/github/Neha-Pal/Machine_Learning-using-Python/blob/main/Numpy_practice.ipynb\" target=\"_parent\"><img src=\"https://colab.research.google.com/assets/colab-badge.svg\" alt=\"Open In Colab\"/></a>"
      ]
    },
    {
      "cell_type": "code",
      "execution_count": 1,
      "metadata": {
        "id": "TFHH2a9xBWV-"
      },
      "outputs": [],
      "source": [
        "import numpy as np"
      ]
    },
    {
      "cell_type": "markdown",
      "source": [
        "Time taken by process time"
      ],
      "metadata": {
        "id": "oo--mku2spGh"
      }
    },
    {
      "cell_type": "code",
      "source": [
        "from time import process_time"
      ],
      "metadata": {
        "id": "g8ryMYursmMu"
      },
      "execution_count": 2,
      "outputs": []
    },
    {
      "cell_type": "markdown",
      "source": [
        "Time taken by a list"
      ],
      "metadata": {
        "id": "5GhR13zdsz8P"
      }
    },
    {
      "cell_type": "code",
      "source": [
        "my_list = [i for i in range(100000)]\n",
        "start_time = process_time()\n",
        "\n",
        "my_list = [i+10 for i in my_list]\n",
        "end_time = process_time()\n",
        "\n",
        "print(end_time - start_time)\n"
      ],
      "metadata": {
        "colab": {
          "base_uri": "https://localhost:8080/"
        },
        "id": "EjXppSeBsyyO",
        "outputId": "44c60737-b45f-4f60-817a-30391a8828ef"
      },
      "execution_count": 10,
      "outputs": [
        {
          "output_type": "stream",
          "name": "stdout",
          "text": [
            "0.010469773000000515\n"
          ]
        }
      ]
    },
    {
      "cell_type": "markdown",
      "source": [
        "Time taken for an array"
      ],
      "metadata": {
        "id": "UG8CHVZ1ubah"
      }
    },
    {
      "cell_type": "code",
      "source": [
        "arr = np.array([i for i in range(100000)])\n",
        "start_time = process_time()\n",
        "\n",
        "arr += 10\n",
        "end_time = process_time()\n",
        "\n",
        "print(end_time - start_time)"
      ],
      "metadata": {
        "colab": {
          "base_uri": "https://localhost:8080/"
        },
        "id": "3Ps5Ow1ethXY",
        "outputId": "10de1820-6120-4a26-ddee-bbe83f8998ff"
      },
      "execution_count": 11,
      "outputs": [
        {
          "output_type": "stream",
          "name": "stdout",
          "text": [
            "0.0003752709999993442\n"
          ]
        }
      ]
    },
    {
      "cell_type": "markdown",
      "source": [
        "Numpy Arrays"
      ],
      "metadata": {
        "id": "iTkHAnNwvSLQ"
      }
    },
    {
      "cell_type": "code",
      "source": [
        "#list\n",
        "list_1 = [9,80,6,45]\n",
        "print(list_1)\n",
        "print(type(list_1))"
      ],
      "metadata": {
        "colab": {
          "base_uri": "https://localhost:8080/"
        },
        "id": "fxM-96cwuoxY",
        "outputId": "44202db3-32eb-49b1-fe98-f3da5c1402e8"
      },
      "execution_count": 13,
      "outputs": [
        {
          "output_type": "stream",
          "name": "stdout",
          "text": [
            "[9, 80, 6, 45]\n",
            "<class 'list'>\n"
          ]
        }
      ]
    },
    {
      "cell_type": "code",
      "source": [
        "#array\n",
        "arr_1 = np.array([9,80,6,45])\n",
        "print(arr_1)\n",
        "print(type(arr_1))"
      ],
      "metadata": {
        "colab": {
          "base_uri": "https://localhost:8080/"
        },
        "id": "ZxpgyGc0vf9Y",
        "outputId": "2a333dca-4da8-4349-b68a-e59a609f8850"
      },
      "execution_count": 14,
      "outputs": [
        {
          "output_type": "stream",
          "name": "stdout",
          "text": [
            "[ 9 80  6 45]\n",
            "<class 'numpy.ndarray'>\n"
          ]
        }
      ]
    },
    {
      "cell_type": "code",
      "source": [
        "#creating 1 dimensional array\n",
        "arr_2 = np.array([9,80,6,45])\n",
        "print(arr_1)"
      ],
      "metadata": {
        "colab": {
          "base_uri": "https://localhost:8080/"
        },
        "id": "gvr-o8tZvvdO",
        "outputId": "47fc550d-1a7e-4aa3-b47c-dc9cfa25a53f"
      },
      "execution_count": 17,
      "outputs": [
        {
          "output_type": "stream",
          "name": "stdout",
          "text": [
            "[ 9 80  6 45]\n"
          ]
        }
      ]
    },
    {
      "cell_type": "code",
      "source": [
        "arr_2.shape"
      ],
      "metadata": {
        "colab": {
          "base_uri": "https://localhost:8080/"
        },
        "id": "p4cuj7vOv_M-",
        "outputId": "0853a5ae-dae0-4f64-9e0f-3017774ac3ae"
      },
      "execution_count": 18,
      "outputs": [
        {
          "output_type": "execute_result",
          "data": {
            "text/plain": [
              "(4,)"
            ]
          },
          "metadata": {},
          "execution_count": 18
        }
      ]
    },
    {
      "cell_type": "code",
      "source": [
        "#2 dimensional array\n",
        "arr_3 = np.array([[1,2,3],[4,5,6]])\n",
        "print(arr_3)"
      ],
      "metadata": {
        "colab": {
          "base_uri": "https://localhost:8080/"
        },
        "id": "-yaO-6RVwGIG",
        "outputId": "6be89a74-f69e-48a3-c6e7-ddc4a148e513"
      },
      "execution_count": 19,
      "outputs": [
        {
          "output_type": "stream",
          "name": "stdout",
          "text": [
            "[[1 2 3]\n",
            " [4 5 6]]\n"
          ]
        }
      ]
    },
    {
      "cell_type": "code",
      "source": [
        "arr_3.shape"
      ],
      "metadata": {
        "colab": {
          "base_uri": "https://localhost:8080/"
        },
        "id": "mRwAaTcbwQRW",
        "outputId": "cd8710ee-62ea-4477-fa8e-1c5983c799dd"
      },
      "execution_count": 20,
      "outputs": [
        {
          "output_type": "execute_result",
          "data": {
            "text/plain": [
              "(2, 3)"
            ]
          },
          "metadata": {},
          "execution_count": 20
        }
      ]
    },
    {
      "cell_type": "code",
      "source": [
        "arr_4 = np.array([[1,2,3],[4,5,6],[7,8,9]], dtype = float)\n",
        "print(arr_4)"
      ],
      "metadata": {
        "colab": {
          "base_uri": "https://localhost:8080/"
        },
        "id": "riW3Jht4wT3x",
        "outputId": "50adebba-1a3c-4bb8-ed71-5a8fab188ed8"
      },
      "execution_count": 21,
      "outputs": [
        {
          "output_type": "stream",
          "name": "stdout",
          "text": [
            "[[1. 2. 3.]\n",
            " [4. 5. 6.]\n",
            " [7. 8. 9.]]\n"
          ]
        }
      ]
    },
    {
      "cell_type": "markdown",
      "source": [
        "Initial placeholders"
      ],
      "metadata": {
        "id": "-KQtTPrkwnnJ"
      }
    },
    {
      "cell_type": "code",
      "source": [
        "#create a numpy array of 0's\n",
        "arr_5 = np.zeros((4,5))\n",
        "print(arr_5)"
      ],
      "metadata": {
        "colab": {
          "base_uri": "https://localhost:8080/"
        },
        "id": "2qodSfoQwkx2",
        "outputId": "0e5aff36-f86d-4818-c861-c0870323f40f"
      },
      "execution_count": 22,
      "outputs": [
        {
          "output_type": "stream",
          "name": "stdout",
          "text": [
            "[[0. 0. 0. 0. 0.]\n",
            " [0. 0. 0. 0. 0.]\n",
            " [0. 0. 0. 0. 0.]\n",
            " [0. 0. 0. 0. 0.]]\n"
          ]
        }
      ]
    },
    {
      "cell_type": "code",
      "source": [
        "#create a numpy array of 1's\n",
        "arr_6 = np.ones((4,3))\n",
        "print(arr_6)"
      ],
      "metadata": {
        "colab": {
          "base_uri": "https://localhost:8080/"
        },
        "id": "KIbLccX-xVwB",
        "outputId": "4485396c-2f39-4593-e160-9cb9f9344d33"
      },
      "execution_count": 23,
      "outputs": [
        {
          "output_type": "stream",
          "name": "stdout",
          "text": [
            "[[1. 1. 1.]\n",
            " [1. 1. 1.]\n",
            " [1. 1. 1.]\n",
            " [1. 1. 1.]]\n"
          ]
        }
      ]
    },
    {
      "cell_type": "code",
      "source": [
        "#array of particular values\n",
        "arr_7 = np.full((3,4),5)\n",
        "print(arr_7)"
      ],
      "metadata": {
        "colab": {
          "base_uri": "https://localhost:8080/"
        },
        "id": "LimuSfSMxequ",
        "outputId": "6c2122cb-b3de-4bdc-94d9-e377f56ca403"
      },
      "execution_count": 24,
      "outputs": [
        {
          "output_type": "stream",
          "name": "stdout",
          "text": [
            "[[5 5 5 5]\n",
            " [5 5 5 5]\n",
            " [5 5 5 5]]\n"
          ]
        }
      ]
    },
    {
      "cell_type": "code",
      "source": [
        "#create an identity matrix\n",
        "arr_8 = np.eye(4)\n",
        "print(arr_8)"
      ],
      "metadata": {
        "colab": {
          "base_uri": "https://localhost:8080/"
        },
        "id": "rDMhJ0tXxq8w",
        "outputId": "b5e28b7a-3049-4516-956c-e66f4568466c"
      },
      "execution_count": 25,
      "outputs": [
        {
          "output_type": "stream",
          "name": "stdout",
          "text": [
            "[[1. 0. 0. 0.]\n",
            " [0. 1. 0. 0.]\n",
            " [0. 0. 1. 0.]\n",
            " [0. 0. 0. 1.]]\n"
          ]
        }
      ]
    },
    {
      "cell_type": "code",
      "source": [
        "#create a numpy array with random values\n",
        "arr_9 = np.random.random((4,5))\n",
        "print(arr_9)"
      ],
      "metadata": {
        "colab": {
          "base_uri": "https://localhost:8080/"
        },
        "id": "9q0B98wEx44b",
        "outputId": "6f4c858e-f383-49d6-8af2-aeac0cec73de"
      },
      "execution_count": 27,
      "outputs": [
        {
          "output_type": "stream",
          "name": "stdout",
          "text": [
            "[[0.64887634 0.72922548 0.49834668 0.99226018 0.51017583]\n",
            " [0.49067014 0.23061411 0.28017481 0.77757347 0.42526115]\n",
            " [0.8464713  0.3758441  0.58837084 0.92457042 0.70813841]\n",
            " [0.02965665 0.18174749 0.60811109 0.85668586 0.94251462]]\n"
          ]
        }
      ]
    },
    {
      "cell_type": "code",
      "source": [
        "#create a numpy array with random integer values\n",
        "arr_10 = np.random.randint(10,100,(4,5))\n",
        "print(arr_10)"
      ],
      "metadata": {
        "colab": {
          "base_uri": "https://localhost:8080/"
        },
        "id": "TAt-EBe3yUYB",
        "outputId": "cf9604e3-a488-4c15-efe2-c66bee0bbec9"
      },
      "execution_count": 28,
      "outputs": [
        {
          "output_type": "stream",
          "name": "stdout",
          "text": [
            "[[95 23 44 16 59]\n",
            " [11 13 40 49 23]\n",
            " [97 15 49 25 34]\n",
            " [92 48 89 35 89]]\n"
          ]
        }
      ]
    },
    {
      "cell_type": "code",
      "source": [
        "#array of evenly spaced values\n",
        "arr_11 = np.linspace(10,40,5)\n",
        "print(arr_11)"
      ],
      "metadata": {
        "colab": {
          "base_uri": "https://localhost:8080/"
        },
        "id": "znebur7lylod",
        "outputId": "6214cc36-4af1-4dbb-ef97-48faeced2cc1"
      },
      "execution_count": 32,
      "outputs": [
        {
          "output_type": "stream",
          "name": "stdout",
          "text": [
            "[10.  17.5 25.  32.5 40. ]\n"
          ]
        }
      ]
    },
    {
      "cell_type": "code",
      "source": [
        "#convert a list to a array\n",
        "list_2 = [1,2,3,4,5]\n",
        "arr_12 = np.asarray(list_2)\n",
        "print(arr_12)"
      ],
      "metadata": {
        "colab": {
          "base_uri": "https://localhost:8080/"
        },
        "id": "k0h1CK7ny-6x",
        "outputId": "a887620f-581b-4067-f21e-7bd235f8ea0d"
      },
      "execution_count": 34,
      "outputs": [
        {
          "output_type": "stream",
          "name": "stdout",
          "text": [
            "[1 2 3 4 5]\n"
          ]
        }
      ]
    },
    {
      "cell_type": "markdown",
      "source": [
        "Analyzing an array"
      ],
      "metadata": {
        "id": "npEJWski0CST"
      }
    },
    {
      "cell_type": "code",
      "source": [
        "arr_13 = np.random.randint(10,100,(5,5))\n",
        "print(arr_13)"
      ],
      "metadata": {
        "colab": {
          "base_uri": "https://localhost:8080/"
        },
        "id": "oCztiCL4zySt",
        "outputId": "bb2e1fae-b1f3-4ba2-e97b-3ac29b29838d"
      },
      "execution_count": 35,
      "outputs": [
        {
          "output_type": "stream",
          "name": "stdout",
          "text": [
            "[[42 30 12 65 95]\n",
            " [95 53 73 60 93]\n",
            " [40 61 25 28 28]\n",
            " [44 12 43 10 41]\n",
            " [45 59 62 42 13]]\n"
          ]
        }
      ]
    },
    {
      "cell_type": "code",
      "source": [
        "#Array dimension\n",
        "arr_13.shape"
      ],
      "metadata": {
        "colab": {
          "base_uri": "https://localhost:8080/"
        },
        "id": "byCuI5a10OYQ",
        "outputId": "1252e77b-b760-4e0c-a39a-978dfa943989"
      },
      "execution_count": 36,
      "outputs": [
        {
          "output_type": "execute_result",
          "data": {
            "text/plain": [
              "(5, 5)"
            ]
          },
          "metadata": {},
          "execution_count": 36
        }
      ]
    },
    {
      "cell_type": "code",
      "source": [
        "#no of dimensions\n",
        "arr_13.ndim"
      ],
      "metadata": {
        "colab": {
          "base_uri": "https://localhost:8080/"
        },
        "id": "GAnYLr6s0TUX",
        "outputId": "c4fb77b0-da39-4fbe-9add-3cb6d830cd4e"
      },
      "execution_count": 37,
      "outputs": [
        {
          "output_type": "execute_result",
          "data": {
            "text/plain": [
              "2"
            ]
          },
          "metadata": {},
          "execution_count": 37
        }
      ]
    },
    {
      "cell_type": "code",
      "source": [
        "#no of elements in an array\n",
        "arr_13.size\n"
      ],
      "metadata": {
        "colab": {
          "base_uri": "https://localhost:8080/"
        },
        "id": "Q5wu5dTl0aOs",
        "outputId": "6bd7281f-c73e-45a7-ef24-930d83de31d7"
      },
      "execution_count": 38,
      "outputs": [
        {
          "output_type": "execute_result",
          "data": {
            "text/plain": [
              "25"
            ]
          },
          "metadata": {},
          "execution_count": 38
        }
      ]
    },
    {
      "cell_type": "code",
      "source": [
        "#cheking the datatype of the values of the array\n",
        "arr_13.dtype"
      ],
      "metadata": {
        "colab": {
          "base_uri": "https://localhost:8080/"
        },
        "id": "KJmF4yCi0ffR",
        "outputId": "de85c853-a562-45f4-e358-c53d14d7b8ad"
      },
      "execution_count": 39,
      "outputs": [
        {
          "output_type": "execute_result",
          "data": {
            "text/plain": [
              "dtype('int64')"
            ]
          },
          "metadata": {},
          "execution_count": 39
        }
      ]
    },
    {
      "cell_type": "markdown",
      "source": [
        "Mathematical Operation"
      ],
      "metadata": {
        "id": "M0f2_19T0vyg"
      }
    },
    {
      "cell_type": "code",
      "source": [
        "list_1 = [1,2,3,4,5]\n",
        "list_2 = [6,7,8,9,10]\n",
        "print(list_1 + list_2) #+ sign will concat two lists"
      ],
      "metadata": {
        "colab": {
          "base_uri": "https://localhost:8080/"
        },
        "id": "3T3EpsVj0rAv",
        "outputId": "09705c01-e513-416e-bc06-71c1e5a23216"
      },
      "execution_count": 40,
      "outputs": [
        {
          "output_type": "stream",
          "name": "stdout",
          "text": [
            "[1, 2, 3, 4, 5, 6, 7, 8, 9, 10]\n"
          ]
        }
      ]
    },
    {
      "cell_type": "code",
      "source": [
        "a = np.random.randint(0,10,(3,3))\n",
        "b = np.random.randint(10,20,(3,3))\n",
        "print(\"Array_1:\\n\", a)\n",
        "print(\"Array_2:\\n\", b)\n",
        "print(\"Addition:\\n\", a+b)\n",
        "print(\"Subtraction\\n:\", b-a)\n",
        "print(\"Multiplication:\\n\", a*b)"
      ],
      "metadata": {
        "colab": {
          "base_uri": "https://localhost:8080/"
        },
        "id": "xyeJ48ng03b1",
        "outputId": "0aed6f8f-bbc2-404f-90c1-99ad77573a69"
      },
      "execution_count": 47,
      "outputs": [
        {
          "output_type": "stream",
          "name": "stdout",
          "text": [
            "Array_1:\n",
            " [[3 0 2]\n",
            " [7 1 1]\n",
            " [9 5 1]]\n",
            "Array_2:\n",
            " [[17 15 16]\n",
            " [16 11 13]\n",
            " [12 15 12]]\n",
            "Addition:\n",
            " [[20 15 18]\n",
            " [23 12 14]\n",
            " [21 20 13]]\n",
            "Subtraction\n",
            ": [[14 15 14]\n",
            " [ 9 10 12]\n",
            " [ 3 10 11]]\n",
            "Multiplication:\n",
            " [[ 51   0  32]\n",
            " [112  11  13]\n",
            " [108  75  12]]\n"
          ]
        }
      ]
    },
    {
      "cell_type": "code",
      "source": [
        "#Another way\n",
        "np.add(a,b)"
      ],
      "metadata": {
        "colab": {
          "base_uri": "https://localhost:8080/"
        },
        "id": "Tf5rX5Jp1Wih",
        "outputId": "92fb9c21-62cc-4347-a5be-5de40ceffca1"
      },
      "execution_count": 48,
      "outputs": [
        {
          "output_type": "execute_result",
          "data": {
            "text/plain": [
              "array([[20, 15, 18],\n",
              "       [23, 12, 14],\n",
              "       [21, 20, 13]])"
            ]
          },
          "metadata": {},
          "execution_count": 48
        }
      ]
    },
    {
      "cell_type": "code",
      "source": [
        "np.subtract(b, a)"
      ],
      "metadata": {
        "colab": {
          "base_uri": "https://localhost:8080/"
        },
        "id": "-jF_QIv_2IvK",
        "outputId": "d751aa9e-cd32-45cc-ca7a-0f94c0fe06d3"
      },
      "execution_count": 50,
      "outputs": [
        {
          "output_type": "execute_result",
          "data": {
            "text/plain": [
              "array([[14, 15, 14],\n",
              "       [ 9, 10, 12],\n",
              "       [ 3, 10, 11]])"
            ]
          },
          "metadata": {},
          "execution_count": 50
        }
      ]
    },
    {
      "cell_type": "code",
      "source": [
        "#Array malipulation\n",
        "arr_14 = np.random.randint(0,10,(2,3))\n",
        "print(arr_14)\n",
        "arr_14 = arr_14.reshape((3,2))\n",
        "print(arr_14)"
      ],
      "metadata": {
        "colab": {
          "base_uri": "https://localhost:8080/"
        },
        "id": "0HE3Ea3o2XS8",
        "outputId": "c7b2c508-990a-46b8-8e97-bf9b9050375b"
      },
      "execution_count": 51,
      "outputs": [
        {
          "output_type": "stream",
          "name": "stdout",
          "text": [
            "[[9 0 2]\n",
            " [0 2 2]]\n",
            "[[9 0]\n",
            " [2 0]\n",
            " [2 2]]\n"
          ]
        }
      ]
    },
    {
      "cell_type": "code",
      "source": [
        "#transpose\n",
        "arr_15 = np.random.randint(0,10,(2,3))\n",
        "print(arr_15)\n",
        "arr_15 = arr_15.transpose()\n",
        "print(arr_15)\n"
      ],
      "metadata": {
        "colab": {
          "base_uri": "https://localhost:8080/"
        },
        "id": "8gNlyCJ622vt",
        "outputId": "2ca713fa-50dd-4d3b-a527-8b13db92bd5e"
      },
      "execution_count": 52,
      "outputs": [
        {
          "output_type": "stream",
          "name": "stdout",
          "text": [
            "[[2 4 3]\n",
            " [9 9 0]]\n",
            "[[2 9]\n",
            " [4 9]\n",
            " [3 0]]\n"
          ]
        }
      ]
    },
    {
      "cell_type": "code",
      "source": [],
      "metadata": {
        "id": "zNiYp3li3Ema"
      },
      "execution_count": null,
      "outputs": []
    }
  ]
}